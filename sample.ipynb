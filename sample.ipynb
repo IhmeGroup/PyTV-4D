{
 "cells": [
  {
   "cell_type": "code",
   "execution_count": 25,
   "id": "39c06cbf",
   "metadata": {},
   "outputs": [
    {
     "data": {
      "application/javascript": "IPython.notebook.set_autosave_interval(30000)"
     },
     "metadata": {},
     "output_type": "display_data"
    },
    {
     "name": "stdout",
     "output_type": "stream",
     "text": [
      "Autosaving every 30 seconds\n",
      "The autoreload extension is already loaded. To reload it, use:\n",
      "  %reload_ext autoreload\n"
     ]
    }
   ],
   "source": [
    "# Import packages\n",
    "\n",
    "import numpy as np\n",
    "import matplotlib.pyplot as plt\n",
    "import tifffile\n",
    "import os, sys\n",
    "import time\n",
    "import torch\n",
    "torch.backends.cudnn.benchmark = True # False: reproducible convolution but slower\n",
    "\n",
    "import tv\n",
    "import tv_2d\n",
    "import tv_pyTorch\n",
    "import tv_operators\n",
    "import tv_operators_pyTorch\n",
    "\n",
    "\n",
    "%autosave 30\n",
    "%load_ext autoreload\n",
    "%autoreload 2"
   ]
  },
  {
   "cell_type": "markdown",
   "id": "ca3d6023",
   "metadata": {},
   "source": [
    "## General definitions\n",
    "\n",
    "- 2D Image $f_{i,j}$ with $0 \\leq (i,j) \\leq N-1$\n",
    "\n",
    "- Row difference: $r_{i,j} = f_{i+1,j}-f{i,j}$\n",
    "\n",
    "- Column difference: $c_{i,j} = f_{i,j+1}-f{i,j}$\n",
    "\n",
    "- Example matrix: \n",
    "\n",
    "$\n",
    "A = \\begin{pmatrix}\n",
    "0 & 0 & 0 & 0 & 0 \\\\\n",
    "0 & 0 & 0 & 0 & 0 \\\\\n",
    "0 & 0 & 1 & 0 & 0 \\\\\n",
    "0 & 0 & 0 & 0 & 0 \\\\\n",
    "0 & 0 & 0 & 0 & 0 \\\\\n",
    "\\end{pmatrix}\n",
    "$\n",
    "\n",
    "## TV Upwind\n",
    "\n",
    "\n",
    "- $TVU(f) = \\sum_{i,j = 0}^{N-2} \\sqrt{r_{i,j}^2+c_{i,j}^2} = \\sum_{i,j = 0}^{N-2} G^U_{i,j}$\n",
    "\n",
    "- Not differentiable everywhere, isotropic.\n",
    "\n",
    "- $G^U_{i,j} = \\sqrt{r_{i,j}^2+c_{i,j}^2}$\n",
    "\n",
    "- $[\\partial TVU(f)]_{p,q} = \\partial_{p,q}(G^U_{p,q}) + \\partial_{p,q}(G^U_{p-1,q}) + \\partial_{p,q}(G^U_{p,q-1}) = - \\frac{r_{p,q}+c_{p,q}}{G^U_{p,q}} +\\frac{r_{p-1,q}}{G^U_{p-1,q}} + \\frac{c_{p,q-1}}{G^U_{p,q-1}}$\n",
    "\n",
    "- $TVU(A) = 2+\\sqrt{2}$ and the following matrix is a subgradient:\n",
    "\n",
    "$\n",
    "\\begin{pmatrix}\n",
    "0 & 0 & 0 & 0 & 0 \\\\\n",
    "0 & 0 & -1 & 0 & 0 \\\\\n",
    "0 & -1 & 2+\\sqrt{2} & -1/\\sqrt{2} & 0 \\\\\n",
    "0 & 0 & -1/\\sqrt{2} & 0 & 0 \\\\\n",
    "0 & 0 & 0 & 0 & 0 \\\\\n",
    "\\end{pmatrix}\n",
    "$\n",
    "\n",
    "## TV Downwind\n",
    "\n",
    "\n",
    "- $TVD(f) = \\sum_{i,j = 1}^{N-1} \\sqrt{r_{i-1,j}^2+c_{i,j-1}^2} = \\sum_{i,j = 0}^{N-2} \\sqrt{r_{i,j+1}^2+c_{i+1,j}^2} =  \\sum_{i,j = 0}^{N-2} G^D_{i,j}$\n",
    "\n",
    "- Not differentiable everywhere, isotropic.\n",
    "\n",
    "- $G^D_{i,j} = \\sqrt{r_{i,j+1}^2+c_{i+1,j}^2}$\n",
    "\n",
    "- $[\\partial TVD(f)]_{p,q} = \\partial_{p,q}(G^D_{p-1,q-1}) + \\partial_{p,q}(G^D_{p-1,q}) + \\partial_{p,q}(G^D_{p,q-1}) = \\frac{r_{p-1,q}+c_{p,q-1}}{G^D_{p-1,q-1}} - \\frac{c_{p,q}}{G^D_{p-1,q}} - \\frac{r_{p,q}}{G^D_{p,q-1}}$\n",
    "\n",
    "- $TVD(A) = 2+\\sqrt{2}$ and the following matrix is a subgradient:\n",
    "\n",
    "$\n",
    "\\begin{pmatrix}\n",
    "0 & 0 & 0 & 0 & 0 \\\\\n",
    "0 & 0 & -1/\\sqrt{2} & 0 & 0 \\\\\n",
    "0 & -1/\\sqrt{2} & 2+\\sqrt{2} & -1 & 0 \\\\\n",
    "0 & 0 & -1 & 0 & 0 \\\\\n",
    "0 & 0 & 0 & 0 & 0 \\\\\n",
    "\\end{pmatrix}\n",
    "$\n",
    "\n",
    "\n",
    "## TV Mixture\n",
    "\n",
    "\n",
    "- $TVM(f) = (TVD(f)+TVU(f))/2$\n",
    "\n",
    "- Not differentiable everywhere, isotropic.\n",
    "\n",
    "- Can't be written from the standard TV definition using a numerical discretization of $\\left( \\frac{\\partial f}{\\partial x}\\right) ^2$.\n",
    "\n",
    "- $TVM(A) = 2+\\sqrt{2}$ and the following matrix is a subgradient:\n",
    "\n",
    "$\n",
    "\\begin{pmatrix}\n",
    "0 & 0 & 0 & 0 & 0 \\\\\n",
    "0 & 0 & -\\frac{1+\\sqrt{2}}{2\\sqrt{2}} & 0 & 0 \\\\\n",
    "0 & -\\frac{1+\\sqrt{2}}{2\\sqrt{2}} & 2+\\sqrt{2} & -\\frac{1+\\sqrt{2}}{2\\sqrt{2}} & 0 \\\\\n",
    "0 & 0 & -\\frac{1+\\sqrt{2}}{2\\sqrt{2}} & 0 & 0 \\\\\n",
    "0 & 0 & 0 & 0 & 0 \\\\\n",
    "\\end{pmatrix}\n",
    "$\n",
    "\n",
    "\n",
    "## TV Hybrid \n",
    "\n",
    "- $TVH(f) = \\frac{1}{\\sqrt{2}}\\sum_{i,j = 0}^{N-2} \\sqrt{r_{i,j}^2 + r_{i,j+1}^2 + c_{i,j}^2 + +c_{i+1,j}^2} = \\frac{1}{\\sqrt{2}} \\sum_{i,j = 0}^{N-2} G^H_{i,j}$\n",
    "\n",
    "- Not differentiable everywhere, isotropic.\n",
    "\n",
    "- $G^H_{i,j} = \\sqrt{r_{i,j}^2 + c_{i,j}^2 + r_{i,j+1}^2+c_{i+1,j}^2}$\n",
    "\n",
    "- $[\\partial TVH(f)]_{p,q} = \\partial_{p,q}(G^H_{p,q}) + \\partial_{p,q}(G^H_{p,q-1})+ \\partial_{p,q}(G^H_{p-1,q})  + \\partial_{p,q}(G^H_{p-1,q-1})  = -\\frac{r_{p,q}+c_{p,q}}{G^H_{p,q}} + \\frac{c_{p,q-1}-r_{p,q}}{G^H_{p,q-1}} + \\frac{r_{p-1,q}-c_{p,q}}{G^H_{p-1,q}} + \\frac{r_{p-1,q}+c_{p,q-1}}{G^H_{p-1,q-1}}$\n",
    "\n",
    "- $TVM(A) = 4.0$ and the following matrix is a subgradient:\n",
    "\n",
    "$\n",
    "\\begin{pmatrix}\n",
    "0 & 0 & 0 & 0 & 0 \\\\\n",
    "0 & 0 & -2 & 0 & 0 \\\\\n",
    "0 & -2 & 8 & -2 & 0 \\\\\n",
    "0 & 0 & -2 & 0 & 0 \\\\\n",
    "0 & 0 & 0 & 0 & 0 \\\\\n",
    "\\end{pmatrix}\n",
    "$\n",
    "\n",
    "\n",
    "## TV Central\n",
    "\n",
    "- $TVC(f) = \\frac{1}{2} \\sum_{i,j = 0}^{N-3} \\sqrt{(r_{i+1,j}+r_{i,j})^2 + (c_{i,j+1} +c_{i,j})^2} = \\frac{1}{2} \\sum_{i,j = 0}^{N-3} G^C_{i,j}$\n",
    "\n",
    "- Not differentiable everywhere, isotropic.\n",
    "\n",
    "- $G^C_{i,j} = \\sqrt{(r_{i+1,j}+r_{i,j})^2 + (c_{i,j+1} +c_{i,j})^2}$\n",
    "\n",
    "- $[\\partial TVC(f)]_{p,q} = \\partial_{p,q}(G^C_{p,q}) + \\partial_{p,q}(G^C_{p,q-1})+ \\partial_{p,q}(G^C_{p-1,q})  + \\partial_{p,q}(G^C_{p,q-2})  + \\partial_{p,q}(G^C_{p-2,q})  = -\\frac{r_{p+1,q}+r_{p,q}+c_{p,q+1}+c_{p,q}}{G^C_{p,q}} - 0 - 0+ \\frac{r_{p-1,q}+r_{p-2,q}}{G^C_{p-2,q}} + \\frac{c_{p,q-1}+c_{p,q-2}}{G^C_{p,q-2}}$\n",
    "\n",
    "- $TVM(A) = 2.0$ and the following matrix is a subgradient:\n",
    "\n",
    "$\n",
    "\\begin{pmatrix}\n",
    "0 & 0 & -1 & 0 & 0 \\\\\n",
    "0 & 0 & 0 & 0 & 0 \\\\\n",
    "-1 & 0 & 4 & 0 & -1 \\\\\n",
    "0 & 0 & 0 & 0 & 0 \\\\\n",
    "0 & 0 & -1 & 0 & 0 \\\\\n",
    "\\end{pmatrix}\n",
    "$"
   ]
  },
  {
   "cell_type": "markdown",
   "source": [
    "# Implementation tests"
   ],
   "metadata": {
    "collapsed": false
   }
  },
  {
   "cell_type": "code",
   "execution_count": 211,
   "outputs": [
    {
     "name": "stdout",
     "output_type": "stream",
     "text": [
      "Checking TV values for discretization scheme: hybrid\n",
      "\n",
      "\n"
     ]
    },
    {
     "ename": "IndexError",
     "evalue": "too many indices for array",
     "output_type": "error",
     "traceback": [
      "\u001B[0;31m---------------------------------------------------------------------------\u001B[0m",
      "\u001B[0;31mIndexError\u001B[0m                                Traceback (most recent call last)",
      "\u001B[0;32m<ipython-input-211-7da45813a13d>\u001B[0m in \u001B[0;36m<module>\u001B[0;34m\u001B[0m\n\u001B[1;32m     14\u001B[0m \u001B[0mprint\u001B[0m\u001B[0;34m(\u001B[0m\u001B[0;34m'\\n'\u001B[0m\u001B[0;34m)\u001B[0m\u001B[0;34m\u001B[0m\u001B[0;34m\u001B[0m\u001B[0m\n\u001B[1;32m     15\u001B[0m \u001B[0mtic\u001B[0m \u001B[0;34m=\u001B[0m \u001B[0mtime\u001B[0m\u001B[0;34m.\u001B[0m\u001B[0mtime\u001B[0m\u001B[0;34m(\u001B[0m\u001B[0;34m)\u001B[0m\u001B[0;34m\u001B[0m\u001B[0;34m\u001B[0m\u001B[0m\n\u001B[0;32m---> 16\u001B[0;31m \u001B[0;34m(\u001B[0m\u001B[0mthis_tv\u001B[0m\u001B[0;34m,\u001B[0m \u001B[0mG\u001B[0m\u001B[0;34m)\u001B[0m \u001B[0;34m=\u001B[0m \u001B[0meval\u001B[0m\u001B[0;34m(\u001B[0m\u001B[0;34m'tv.tv_'\u001B[0m\u001B[0;34m+\u001B[0m\u001B[0mtv_scheme\u001B[0m\u001B[0;34m+\u001B[0m\u001B[0;34m'(img)'\u001B[0m\u001B[0;34m)\u001B[0m\u001B[0;34m\u001B[0m\u001B[0;34m\u001B[0m\u001B[0m\n\u001B[0m\u001B[1;32m     17\u001B[0m \u001B[0mtoc\u001B[0m \u001B[0;34m=\u001B[0m \u001B[0mtime\u001B[0m\u001B[0;34m.\u001B[0m\u001B[0mtime\u001B[0m\u001B[0;34m(\u001B[0m\u001B[0;34m)\u001B[0m\u001B[0;34m\u001B[0m\u001B[0;34m\u001B[0m\u001B[0m\n\u001B[1;32m     18\u001B[0m \u001B[0mprint\u001B[0m\u001B[0;34m(\u001B[0m\u001B[0;34m'CPU took: '\u001B[0m\u001B[0;34m+\u001B[0m\u001B[0mstr\u001B[0m\u001B[0;34m(\u001B[0m\u001B[0mtoc\u001B[0m\u001B[0;34m-\u001B[0m\u001B[0mtic\u001B[0m\u001B[0;34m)\u001B[0m\u001B[0;34m+\u001B[0m\u001B[0;34m' s'\u001B[0m\u001B[0;34m)\u001B[0m\u001B[0;34m\u001B[0m\u001B[0;34m\u001B[0m\u001B[0m\n",
      "\u001B[0;32m<string>\u001B[0m in \u001B[0;36m<module>\u001B[0;34m\u001B[0m\n",
      "\u001B[0;32m/Documents/PhD/PyTV/tv.py\u001B[0m in \u001B[0;36mtv_hybrid\u001B[0;34m(img, mask)\u001B[0m\n\u001B[1;32m     49\u001B[0m     \u001B[0;31m# The intensity differences across rows.\u001B[0m\u001B[0;34m\u001B[0m\u001B[0;34m\u001B[0m\u001B[0;34m\u001B[0m\u001B[0m\n\u001B[1;32m     50\u001B[0m     \u001B[0mrow_diff\u001B[0m \u001B[0;34m=\u001B[0m \u001B[0mnp\u001B[0m\u001B[0;34m.\u001B[0m\u001B[0mzeros_like\u001B[0m\u001B[0;34m(\u001B[0m\u001B[0mimg\u001B[0m\u001B[0;34m)\u001B[0m\u001B[0;34m\u001B[0m\u001B[0;34m\u001B[0m\u001B[0m\n\u001B[0;32m---> 51\u001B[0;31m     \u001B[0mrow_diff\u001B[0m\u001B[0;34m[\u001B[0m\u001B[0;34m:\u001B[0m\u001B[0;34m-\u001B[0m\u001B[0;36m1\u001B[0m\u001B[0;34m,\u001B[0m \u001B[0;34m:\u001B[0m\u001B[0;34m-\u001B[0m\u001B[0;36m1\u001B[0m\u001B[0;34m,\u001B[0m \u001B[0;34m:\u001B[0m\u001B[0;34m-\u001B[0m\u001B[0;36m1\u001B[0m\u001B[0;34m]\u001B[0m \u001B[0;34m=\u001B[0m \u001B[0mimg\u001B[0m\u001B[0;34m[\u001B[0m\u001B[0;34m:\u001B[0m\u001B[0;34m-\u001B[0m\u001B[0;36m1\u001B[0m\u001B[0;34m,\u001B[0m \u001B[0;36m1\u001B[0m\u001B[0;34m:\u001B[0m\u001B[0;34m,\u001B[0m \u001B[0;34m:\u001B[0m\u001B[0;34m-\u001B[0m\u001B[0;36m1\u001B[0m\u001B[0;34m]\u001B[0m \u001B[0;34m-\u001B[0m \u001B[0mimg\u001B[0m\u001B[0;34m[\u001B[0m\u001B[0;34m:\u001B[0m\u001B[0;34m-\u001B[0m\u001B[0;36m1\u001B[0m\u001B[0;34m,\u001B[0m \u001B[0;34m:\u001B[0m\u001B[0;34m-\u001B[0m\u001B[0;36m1\u001B[0m\u001B[0;34m,\u001B[0m \u001B[0;34m:\u001B[0m\u001B[0;34m-\u001B[0m\u001B[0;36m1\u001B[0m\u001B[0;34m]\u001B[0m\u001B[0;34m\u001B[0m\u001B[0;34m\u001B[0m\u001B[0m\n\u001B[0m\u001B[1;32m     52\u001B[0m \u001B[0;34m\u001B[0m\u001B[0m\n\u001B[1;32m     53\u001B[0m     \u001B[0;31m# The intensity differences across columns.\u001B[0m\u001B[0;34m\u001B[0m\u001B[0;34m\u001B[0m\u001B[0;34m\u001B[0m\u001B[0m\n",
      "\u001B[0;31mIndexError\u001B[0m: too many indices for array"
     ]
    }
   ],
   "source": [
    "# Check that 4 different implementations are equal for each scheme\n",
    "\n",
    "# Options are 'downwind', 'upwind', 'centered', 'hybrid'\n",
    "tv_scheme = 'hybrid' # Scheme of discretization used to compute the TV\n",
    "\n",
    "# N = 5\n",
    "# img = np.zeros([N,N])\n",
    "# img[N//2, N//2] = 1.0\n",
    "# plt.imshow(img)\n",
    "img = np.random.rand(5000,5000)\n",
    "\n",
    "print('Checking TV values for discretization scheme: '+str(tv_scheme))\n",
    "\n",
    "print('\\n')\n",
    "tic = time.time()\n",
    "(this_tv, G) = eval('tv.tv_'+tv_scheme+'(img)')\n",
    "toc = time.time()\n",
    "print('CPU took: '+str(toc-tic)+' s')\n",
    "print('TV = '+str(this_tv))\n",
    "\n",
    "tic = time.time()\n",
    "(this_tv2, G2) = eval('tv_pyTorch.tv_'+tv_scheme+'(img)')\n",
    "toc = time.time()\n",
    "print('\\nGPU (PyTorch) took: '+str(toc-tic)+' s')\n",
    "print('TV = '+str(this_tv2))\n",
    "\n",
    "img2 = np.reshape(img, (1,1,)+img.shape)\n",
    "tic = time.time()\n",
    "this_tv3 = eval('tv_operators.compute_L21_norm(tv_operators.D_'+tv_scheme+'(img2))')\n",
    "toc = time.time()\n",
    "print('\\nCPU operators took: '+str(toc-tic)+' s')\n",
    "print('TV = '+str(this_tv3))\n",
    "\n",
    "tic = time.time()\n",
    "this_tv4 = eval('tv_operators_pyTorch.compute_L21_norm(tv_operators_pyTorch.D_'+tv_scheme+'(img2, return_pytorch_tensor=True))')\n",
    "toc = time.time()\n",
    "print('\\nGPU (PyTorch) operators took: '+str(toc-tic)+' s')\n",
    "print('TV = '+str(this_tv4))"
   ],
   "metadata": {
    "collapsed": false,
    "pycharm": {
     "name": "#%%\n"
    }
   }
  },
  {
   "cell_type": "code",
   "execution_count": 228,
   "outputs": [
    {
     "name": "stdout",
     "output_type": "stream",
     "text": [
      "TV downwind: True\n",
      "TV upwind: True\n",
      "TV upwind: True\n",
      "39.29743853171511\n",
      "42.68194328748562\n",
      "TV upwind: False\n"
     ]
    }
   ],
   "source": [
    "N = 10\n",
    "Nz = 5\n",
    "img = np.random.rand(N,N)\n",
    "img_3d = np.tile(img, [Nz, 1, 1])\n",
    "error = 1e-10\n",
    "\n",
    "tv1, G1 = tv.tv_downwind(img_3d)\n",
    "tv2, G2 = tv_2d.tv_downwind(img)\n",
    "print('TV downwind: '+str(abs(tv1/(Nz-2) - tv2)/tv2 < error))\n",
    "\n",
    "tv1, G1 = tv.tv_upwind(img_3d)\n",
    "tv2, G2 = tv_2d.tv_upwind(img)\n",
    "print('TV upwind: '+str(abs(tv1/(Nz-1) - tv2)/tv2 < error))\n",
    "\n",
    "tv1, G1 = tv.tv_centered(img_3d)\n",
    "tv2, G2 = tv_2d.tv_centered(img)\n",
    "print('TV upwind: '+str(abs(tv1/(Nz-2) - tv2)/tv2 < error))\n"
   ],
   "metadata": {
    "collapsed": false,
    "pycharm": {
     "name": "#%% Test 3D\n"
    }
   }
  },
  {
   "cell_type": "code",
   "execution_count": 49,
   "outputs": [
    {
     "name": "stdout",
     "output_type": "stream",
     "text": [
      "Transposition test: PASSED\n",
      "Transposition test: PASSED\n",
      "Transposition test: PASSED\n",
      "Transposition test: PASSED\n",
      "Transposition test: PASSED\n",
      "Transposition test: PASSED\n",
      "Transposition test: PASSED\n",
      "Transposition test: PASSED\n"
     ]
    },
    {
     "data": {
      "text/plain": "True"
     },
     "execution_count": 49,
     "metadata": {},
     "output_type": "execute_result"
    }
   ],
   "source": [
    "# Check that the primal/dual operator implementations are actually tranpose of each other\n",
    "\n",
    "from tests import test_transpose\n",
    "\n",
    "\n",
    "tolerance = 1e-3\n",
    "n_test = 50\n",
    "np.random.rand(0)\n",
    "\n",
    "D = lambda x: tv_operators.D_upwind(np.reshape(x, (1,1,)+x.shape))\n",
    "D_T = lambda y: tv_operators.D_T_upwind(y)\n",
    "test_transpose(D, D_T, tolerance = tolerance, n_test = n_test)\n",
    "\n",
    "D = lambda x: tv_operators.D_downwind(np.reshape(x, (1,1,)+x.shape))\n",
    "D_T = lambda y: tv_operators.D_T_downwind(y)\n",
    "test_transpose(D, D_T, tolerance = tolerance, n_test = n_test)\n",
    "\n",
    "D = lambda x: tv_operators.D_hybrid(np.reshape(x, (1,1,)+x.shape))\n",
    "D_T = lambda y: tv_operators.D_T_hybrid(y)\n",
    "test_transpose(D, D_T, tolerance = tolerance, n_test = n_test)\n",
    "\n",
    "D = lambda x: tv_operators.D_centered(np.reshape(x, (1,1,)+x.shape))\n",
    "D_T = lambda y: tv_operators.D_T_centered(y)\n",
    "test_transpose(D, D_T, tolerance = tolerance, n_test = n_test)\n",
    "\n",
    "D = lambda x: tv_operators_pyTorch.D_upwind(np.reshape(x, (1,1,)+x.shape))\n",
    "D_T = lambda y: tv_operators_pyTorch.D_T_upwind(y)\n",
    "test_transpose(D, D_T, tolerance = tolerance, n_test = n_test)\n",
    "\n",
    "D = lambda x: tv_operators_pyTorch.D_downwind(np.reshape(x, (1,1,)+x.shape))\n",
    "D_T = lambda y: tv_operators_pyTorch.D_T_downwind(y)\n",
    "test_transpose(D, D_T, tolerance = tolerance, n_test = n_test)\n",
    "\n",
    "D = lambda x: tv_operators_pyTorch.D_hybrid(np.reshape(x, (1,1,)+x.shape))\n",
    "D_T = lambda y: tv_operators_pyTorch.D_T_hybrid(y)\n",
    "test_transpose(D, D_T, tolerance = tolerance, n_test = n_test)\n",
    "\n",
    "D = lambda x: tv_operators_pyTorch.D_centered(np.reshape(x, (1,1,)+x.shape))\n",
    "D_T = lambda y: tv_operators_pyTorch.D_T_centered(y)\n",
    "test_transpose(D, D_T, tolerance = tolerance, n_test = n_test)"
   ],
   "metadata": {
    "collapsed": false,
    "pycharm": {
     "name": "#%%\n"
    }
   }
  },
  {
   "cell_type": "markdown",
   "id": "ada09ca5",
   "metadata": {
    "pycharm": {
     "name": "#%% md\n"
    }
   },
   "source": [
    "# Operators in algorithm.py\n",
    "\n",
    "\n"
   ]
  }
 ],
 "metadata": {
  "hide_input": false,
  "kernelspec": {
   "display_name": "Python 3",
   "language": "python",
   "name": "python3"
  },
  "language_info": {
   "codemirror_mode": {
    "name": "ipython",
    "version": 3
   },
   "file_extension": ".py",
   "mimetype": "text/x-python",
   "name": "python",
   "nbconvert_exporter": "python",
   "pygments_lexer": "ipython3",
   "version": "3.6.13"
  },
  "latex_envs": {
   "LaTeX_envs_menu_present": true,
   "autoclose": false,
   "autocomplete": true,
   "bibliofile": "biblio.bib",
   "cite_by": "apalike",
   "current_citInitial": 1,
   "eqLabelWithNumbers": true,
   "eqNumInitial": 1,
   "hotkeys": {
    "equation": "Ctrl-E",
    "itemize": "Ctrl-I"
   },
   "labels_anchors": false,
   "latex_user_defs": false,
   "report_style_numbering": false,
   "user_envs_cfg": false
  }
 },
 "nbformat": 4,
 "nbformat_minor": 5
}